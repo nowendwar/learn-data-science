{
 "cells": [
  {
   "cell_type": "code",
   "execution_count": 10,
   "metadata": {},
   "outputs": [
    {
     "name": "stdout",
     "output_type": "stream",
     "text": [
      "Best solution found: \n",
      "X = [1.         1.         1.         1.         1.         1.\n",
      " 1.         1.         1.         2.99994548 2.98724675 2.99782144\n",
      " 1.        ]\n",
      "F = [-14.98501368]\n",
      "(13,)\n"
     ]
    },
    {
     "data": {
      "text/plain": [
       "array([-14.98501368])"
      ]
     },
     "execution_count": 10,
     "metadata": {},
     "output_type": "execute_result"
    }
   ],
   "source": [
    "from pymoo.algorithms.soo.nonconvex.ga import GA\n",
    "from pymoo.problems import get_problem\n",
    "from pymoo.optimize import minimize\n",
    "\n",
    "problem = get_problem(\"g1\")\n",
    "\n",
    "algorithm = GA(\n",
    "    pop_size=100,\n",
    "    eliminate_duplicates=True)\n",
    "\n",
    "res = minimize(problem,\n",
    "               algorithm,\n",
    "               seed=1,\n",
    "               verbose=False)\n",
    "\n",
    "print(\"Best solution found: \\nX = %s\\nF = %s\" % (res.X, res.F))\n",
    "\n",
    "print(res.X.shape)\n",
    "res.F"
   ]
  }
 ],
 "metadata": {
  "kernelspec": {
   "display_name": ".venv",
   "language": "python",
   "name": "python3"
  },
  "language_info": {
   "codemirror_mode": {
    "name": "ipython",
    "version": 3
   },
   "file_extension": ".py",
   "mimetype": "text/x-python",
   "name": "python",
   "nbconvert_exporter": "python",
   "pygments_lexer": "ipython3",
   "version": "3.9.0"
  },
  "orig_nbformat": 4,
  "vscode": {
   "interpreter": {
    "hash": "5817c95a2f639dc138501ebed1df9c55ae22af81a3f25a85499c8593eeb8425d"
   }
  }
 },
 "nbformat": 4,
 "nbformat_minor": 2
}
