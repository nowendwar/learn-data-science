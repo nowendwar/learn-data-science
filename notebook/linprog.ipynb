{
 "cells": [
  {
   "cell_type": "code",
   "execution_count": 4,
   "metadata": {},
   "outputs": [
    {
     "name": "stdout",
     "output_type": "stream",
     "text": [
      "The problem is infeasible. (HiGHS Status 8: model_status is Infeasible; primal_status is At lower/fixed bound)\n"
     ]
    }
   ],
   "source": [
    "import numpy as np\n",
    "\n",
    "from scipy.optimize import linprog\n",
    "\n",
    "c = np.array([-29.0, -45.0, 0.0, 0.0])\n",
    "\n",
    "A_ub = np.array([[1.0, -1.0, -3.0, 0.0],\n",
    "                [-2.0, 3.0, 7.0, -3.0]])\n",
    "\n",
    "b_ub = np.array([5.0, -10.0])\n",
    "\n",
    "A_eq = np.array([[2.0, 8.0, 1.0, 0.0],\n",
    "                [4.0, 4.0, 0.0, 1.0]])\n",
    "\n",
    "b_eq = np.array([60.0, 60.0])\n",
    "\n",
    "x0_bounds = (0, None)\n",
    "\n",
    "x1_bounds = (0, 5.0)\n",
    "\n",
    "x2_bounds = (-np.inf, 0.5)  # +/- np.inf can be used instead of None\n",
    "\n",
    "x3_bounds = (-3.0, None)\n",
    "\n",
    "bounds = [x0_bounds, x1_bounds, x2_bounds, x3_bounds]\n",
    "\n",
    "result = linprog(c, A_ub=A_ub, b_ub=b_ub, A_eq=A_eq, b_eq=b_eq, bounds=bounds)\n",
    "\n",
    "print(result.message)"
   ]
  }
 ],
 "metadata": {
  "kernelspec": {
   "display_name": ".venv",
   "language": "python",
   "name": "python3"
  },
  "language_info": {
   "codemirror_mode": {
    "name": "ipython",
    "version": 3
   },
   "file_extension": ".py",
   "mimetype": "text/x-python",
   "name": "python",
   "nbconvert_exporter": "python",
   "pygments_lexer": "ipython3",
   "version": "3.9.0 (tags/v3.9.0:9cf6752, Oct  5 2020, 15:34:40) [MSC v.1927 64 bit (AMD64)]"
  },
  "orig_nbformat": 4,
  "vscode": {
   "interpreter": {
    "hash": "5817c95a2f639dc138501ebed1df9c55ae22af81a3f25a85499c8593eeb8425d"
   }
  }
 },
 "nbformat": 4,
 "nbformat_minor": 2
}
