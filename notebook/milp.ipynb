{
 "cells": [
  {
   "cell_type": "code",
   "execution_count": 2,
   "metadata": {},
   "outputs": [],
   "source": [
    "import numpy as np\n",
    "\n",
    "from scipy import optimize\n",
    "\n",
    "sizes = np.array([21, 11, 15, 9, 34, 25, 41, 52])\n",
    "\n",
    "values = np.array([22, 12, 16, 10, 35, 26, 42, 53])\n",
    "\n",
    "bounds = optimize.Bounds(0, 1)  # 0 <= x_i <= 1\n",
    "\n",
    "integrality = np.full_like(values, True)  # x_i are integers\n",
    "\n",
    "capacity = 100\n",
    "\n",
    "constraints = optimize.LinearConstraint(A=sizes, lb=0, ub=capacity)\n",
    "\n",
    "res = optimize.milp(c=-values, constraints=constraints,\n",
    "           integrality=integrality, bounds=bounds)"
   ]
  },
  {
   "cell_type": "code",
   "execution_count": 5,
   "metadata": {},
   "outputs": [
    {
     "name": "stdout",
     "output_type": "stream",
     "text": [
      "True\n"
     ]
    },
    {
     "data": {
      "text/plain": [
       "array([1., 1., 0., 1., 1., 1., 0., 0.])"
      ]
     },
     "execution_count": 5,
     "metadata": {},
     "output_type": "execute_result"
    }
   ],
   "source": [
    "print(res.success)\n",
    "\n",
    "res.x"
   ]
  }
 ],
 "metadata": {
  "kernelspec": {
   "display_name": ".venv",
   "language": "python",
   "name": "python3"
  },
  "language_info": {
   "codemirror_mode": {
    "name": "ipython",
    "version": 3
   },
   "file_extension": ".py",
   "mimetype": "text/x-python",
   "name": "python",
   "nbconvert_exporter": "python",
   "pygments_lexer": "ipython3",
   "version": "3.9.0 (tags/v3.9.0:9cf6752, Oct  5 2020, 15:34:40) [MSC v.1927 64 bit (AMD64)]"
  },
  "orig_nbformat": 4,
  "vscode": {
   "interpreter": {
    "hash": "5817c95a2f639dc138501ebed1df9c55ae22af81a3f25a85499c8593eeb8425d"
   }
  }
 },
 "nbformat": 4,
 "nbformat_minor": 2
}
