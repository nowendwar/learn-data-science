{
 "cells": [
  {
   "cell_type": "code",
   "execution_count": 7,
   "metadata": {},
   "outputs": [
    {
     "name": "stdout",
     "output_type": "stream",
     "text": [
      "Best solution found: [0.52405161 0.26293291 0.18155158 0.30134789 0.14354232 0.00442688\n",
      " 0.21761448 0.25882215 0.09585945]\n",
      "Function value: [-10.08753585]\n",
      "Constraint violation: [0.]\n"
     ]
    },
    {
     "data": {
      "image/png": "[encoded data removed]",
      "text/plain": [
       "<Figure size 640x480 with 1 Axes>"
      ]
     },
     "metadata": {},
     "output_type": "display_data"
    }
   ],
   "source": [
    "# https://github.com/samrat-nath/python-tests/blob/main/Optimization/store_site_selection_GA.py\n",
    "\n",
    "\"\"\"\n",
    "Solving a store site and type selection problem (a type of subset selection problem) \n",
    "by genetic algorithm using pymoo package\n",
    "@author: Samrat Nath\n",
    "\n",
    "https://pymoo.org/customization/discrete.html\n",
    "https://pymoo.org/problems/definition.html\n",
    "https://pymoo.org/algorithms/soo/ga.html#nb-ga\n",
    "\"\"\"\n",
    "\n",
    "#%% Importing Libraries\n",
    "import numpy as np\n",
    "from pymoo.factory import get_algorithm, get_crossover, get_mutation, get_sampling\n",
    "from pymoo.optimize import minimize\n",
    "from pymoo.core.problem import Problem\n",
    "from pymoo.operators.selection.rnd import RandomSelection\n",
    "from pymoo.operators.crossover.sbx import SBX\n",
    "from pymoo.operators.mutation.pm import PolynomialMutation\n",
    "from pymoo.algorithms.soo.nonconvex.ga import GA\n",
    "\n",
    "#%% Global variables for a custom store site  and type selection problem\n",
    "# Matrices for Financial Estimates (in Millions)\n",
    "S_mat = np.array([[75, 50, 25], [70, 40, 20], [65, 35, 15]])     # Sales \n",
    "C_mat = np.array([[35, 20, 10], [35, 20, 10], [30, 18, 8]])     # Cost\n",
    "N_mat = np.array([[10, 6, 4], [10, 5, 3], [9, 5, 3]])     # Net NPV Gain\n",
    "I_mat = np.array([[3, 2, 1], [3, 2, 1], [3, 2, 1]])     # Impact\n",
    "# Vector Representations\n",
    "sales, cost, npv, impact = S_mat.flatten(), C_mat.flatten(), N_mat.flatten(), I_mat.flatten()\n",
    "\n",
    "# Sample solution (Pop=2) \n",
    "# x = np.array([[0, 1, 0, 1, 0, 0, 0, 0, 0],\n",
    "#               [0, 1, 0, 0, 0, 0, 1, 0, 0]])\n",
    "\n",
    "# Business Constraint (in Millions)\n",
    "CAPEX_LIMIT = 55    # Capital Expenditure Limit                            \n",
    "MIN_MKT_SALES = 105  # Minimum Sales from market\n",
    "\n",
    "NUM_LOC = 3      # Number of possible locations for new stores\n",
    "NUM_FMT = 3      # Number of store formats/types\n",
    "STORE_LIMIT = 2  # Number of Total Stores Limit\n",
    "\n",
    "con_mat = np.zeros((NUM_FMT*NUM_LOC, NUM_LOC), dtype=int)\n",
    "for i in range(NUM_LOC):\n",
    "    con_mat[i*NUM_FMT:(i+1)*NUM_FMT,i] = 1 \n",
    "\n",
    "#%% Problem Definiton\n",
    "class MyProblem(Problem):\n",
    "    # Definition of a custom Knapsack problem\n",
    "    def __init__(self):\n",
    "        super().__init__(n_var = NUM_LOC*NUM_FMT,\n",
    "                         n_obj = 1,\n",
    "                         n_constr = NUM_LOC+3,\n",
    "                         xl = 0,\n",
    "                         xu = 1,\n",
    "                         type_var = int\n",
    "                         )\n",
    "\n",
    "    def _evaluate(self, X, out, *args, **kwargs):\n",
    "        # Objective and Constraint functions\n",
    "        out[\"F\"] = -np.sum(X*(npv-impact), axis=1)      # Objetive Value\n",
    "        g1 = np.sum(X*cost, axis=1) - CAPEX_LIMIT  # CAPEX constraint\n",
    "        g2 = -(np.sum(X*sales, axis=1) - MIN_MKT_SALES)  # SALES constraint\n",
    "        g3 = (X@con_mat) -1  # Store format constraint (max 1 type per location\n",
    "        g4 = np.sum(X, axis=1) - STORE_LIMIT           \n",
    "        out[\"G\"] = np.column_stack([g1, g2, g3, g4]) \n",
    "\n",
    "#%% Solution\n",
    "# method = get_algorithm(\"ga\",\n",
    "#                        pop_size=20,\n",
    "#                        sampling=RandomSelection(),\n",
    "#                        crossover=SBX(prob=1.0, eta=3.0),\n",
    "#                        mutation=PolynomialMutation(prob=0.1, eta=3.0),\n",
    "#                        eliminate_duplicates=True,\n",
    "#                        )\n",
    "\n",
    "algorithm = GA(\n",
    "    pop_size=20,\n",
    "    eliminate_duplicates=True)\n",
    "\n",
    "res = minimize(MyProblem(),\n",
    "               algorithm,\n",
    "               termination=('n_gen', 30),\n",
    "               seed=1,\n",
    "               save_history=True\n",
    "               )\n",
    "\n",
    "print(\"Best solution found: %s\" % res.X)\n",
    "print(\"Function value: %s\" % res.F)\n",
    "print(\"Constraint violation: %s\" % res.CV)\n",
    "\n",
    "#%% Visualization of Convergence \n",
    "\n",
    "import matplotlib.pyplot as plt\n",
    "# number of evaluations in each generation\n",
    "n_evals = np.array([e.evaluator.n_eval for e in res.history])  \n",
    "# optimum value in each generation\n",
    "opt = np.array([e.opt[0].F for e in res.history])\n",
    "\n",
    "plt.title(\"Convergence\")\n",
    "plt.plot(n_evals, opt, \"--\")\n",
    "plt.show()"
   ]
  },
  {
   "cell_type": "code",
   "execution_count": 10,
   "metadata": {},
   "outputs": [
    {
     "name": "stdout",
     "output_type": "stream",
     "text": [
      "[75 50 25 70 40 20 65 35 15] [35 20 10 35 20 10 30 18  8] [10  6  4 10  5  3  9  5  3] [3 2 1 3 2 1 3 2 1]\n",
      "[[75 50 25]\n",
      " [70 40 20]\n",
      " [65 35 15]]\n",
      "[[1 0 0]\n",
      " [1 0 0]\n",
      " [1 0 0]\n",
      " [0 1 0]\n",
      " [0 1 0]\n",
      " [0 1 0]\n",
      " [0 0 1]\n",
      " [0 0 1]\n",
      " [0 0 1]]\n"
     ]
    }
   ],
   "source": [
    "print(sales, cost, npv, impact )\n",
    "print(S_mat)\n",
    "print(con_mat)"
   ]
  },
  {
   "cell_type": "code",
   "execution_count": null,
   "metadata": {},
   "outputs": [],
   "source": []
  }
 ],
 "metadata": {
  "kernelspec": {
   "display_name": ".venv",
   "language": "python",
   "name": "python3"
  },
  "language_info": {
   "codemirror_mode": {
    "name": "ipython",
    "version": 3
   },
   "file_extension": ".py",
   "mimetype": "text/x-python",
   "name": "python",
   "nbconvert_exporter": "python",
   "pygments_lexer": "ipython3",
   "version": "3.9.0"
  },
  "orig_nbformat": 4,
  "vscode": {
   "interpreter": {
    "hash": "31012e5d9b34eec4e7740a17bcfa855d3b1397dd322cb19abdee4c26c17d8b7f"
   }
  }
 },
 "nbformat": 4,
 "nbformat_minor": 2
}
