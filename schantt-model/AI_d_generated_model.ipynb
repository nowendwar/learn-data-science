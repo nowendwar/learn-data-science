{
 "cells": [
  {
   "cell_type": "code",
   "execution_count": 57,
   "metadata": {},
   "outputs": [],
   "source": [
    "import numpy as np\n",
    "from pymoo.core.problem import ElementwiseProblem\n",
    "from pymoo.algorithms.soo.nonconvex.ga import GA\n",
    "from pymoo.operators.crossover.ox import OrderCrossover\n",
    "from pymoo.operators.mutation.inversion import InversionMutation\n",
    "from pymoo.optimize import minimize\n"
   ]
  },
  {
   "cell_type": "code",
   "execution_count": 58,
   "metadata": {},
   "outputs": [],
   "source": [
    "# Example data (modify with actual values from the thesis)\n",
    "num_recipes = 5\n",
    "batch_sizes = [100, 200, 150, 80, 120]  # Number of PLBs per recipe\n",
    "tact_time = 8  # Seconds between PLBs entering the line\n",
    "\n",
    "# Processing times per recipe per machine (in minutes)\n",
    "# Format: {machine: [time_recipe_1, time_recipe_2, ...]}\n",
    "processing_times = {\n",
    "    \"DoughDis\": [5, 6, 4, 7, 5],\n",
    "    \"Climas\": [120, 110, 130, 115, 125],\n",
    "    \"toOven\": [10, 12, 8, 15, 9],\n",
    "    \"Oven\": [25, 20, 30, 22, 28],\n",
    "    \"CoolFreeze\": [60, 55, 65, 58, 62]\n",
    "}\n",
    "\n",
    "# Change-over times between recipes (sequence-dependent)\n",
    "# Format: {machine: [[time_r1_to_r1, time_r1_to_r2, ...], ...]}\n",
    "changeover_times = {\n",
    "    \"DoughDis\": np.random.randint(5, 15, (num_recipes, num_recipes)),\n",
    "    \"Climas\": np.random.randint(5, 15, (num_recipes, num_recipes)),\n",
    "    \"toOven\": np.random.randint(5, 15, (num_recipes, num_recipes)),\n",
    "    \"Oven\": np.random.randint(5, 15, (num_recipes, num_recipes)),\n",
    "    \"CoolFreeze\": np.random.randint(5, 15, (num_recipes, num_recipes)),\n",
    "}"
   ]
  },
  {
   "cell_type": "code",
   "execution_count": 59,
   "metadata": {},
   "outputs": [
    {
     "name": "stdout",
     "output_type": "stream",
     "text": [
      "processing_times:\n",
      " {'DoughDis': [5, 6, 4, 7, 5], 'Climas': [120, 110, 130, 115, 125], 'toOven': [10, 12, 8, 15, 9], 'Oven': [25, 20, 30, 22, 28], 'CoolFreeze': [60, 55, 65, 58, 62]}\n",
      "Changeover times:\n",
      " {'DoughDis': array([[12,  6,  7,  5,  5],\n",
      "       [ 7,  9,  7,  5,  5],\n",
      "       [12, 14,  6,  7,  6],\n",
      "       [ 7, 11,  5, 14, 12],\n",
      "       [14, 14, 14,  6,  7]]), 'Climas': array([[13, 11,  8, 14,  9],\n",
      "       [ 6, 12,  8, 13,  9],\n",
      "       [13,  8, 14,  9, 13],\n",
      "       [12,  7,  5,  7,  8],\n",
      "       [ 6,  5, 11, 12, 11]]), 'toOven': array([[ 9,  5, 11, 11, 13],\n",
      "       [ 7, 13,  5,  5,  8],\n",
      "       [13, 10,  7,  5,  8],\n",
      "       [13,  7, 13, 11,  8],\n",
      "       [ 7, 14,  9,  9,  7]]), 'Oven': array([[13,  8,  9,  8,  9],\n",
      "       [11, 13, 11,  9, 14],\n",
      "       [14, 11, 14,  9,  7],\n",
      "       [11,  6, 13, 14, 14],\n",
      "       [ 5, 10, 11, 12, 14]]), 'CoolFreeze': array([[13,  6, 14,  6,  9],\n",
      "       [ 9, 10,  7, 12,  5],\n",
      "       [10,  8,  5, 11, 13],\n",
      "       [ 8,  8, 10,  7, 10],\n",
      "       [11, 14, 14,  7, 11]])}\n"
     ]
    }
   ],
   "source": [
    "print(\"processing_times:\\n\", processing_times)\n",
    "\n",
    "print(\"Changeover times:\\n\", changeover_times)"
   ]
  },
  {
   "cell_type": "code",
   "execution_count": 60,
   "metadata": {},
   "outputs": [
    {
     "data": {
      "text/plain": [
       "7"
      ]
     },
     "execution_count": 60,
     "metadata": {},
     "output_type": "execute_result"
    }
   ],
   "source": [
    "changeover_times[\"DoughDis\"][1, 2]"
   ]
  },
  {
   "cell_type": "code",
   "execution_count": 61,
   "metadata": {},
   "outputs": [],
   "source": [
    "class BakerySchedulingProblem(ElementwiseProblem):\n",
    "    def __init__(self, batch_sizes, processing_times, changeover_times, tact_time):\n",
    "        super().__init__(n_var=num_recipes, n_obj=1, xl=0, xu=num_recipes-1, vtype=int)\n",
    "        self.batch_sizes = batch_sizes\n",
    "        self.processing_times = processing_times\n",
    "        self.changeover_times = changeover_times\n",
    "        self.tact_time = tact_time\n",
    "        self.machines = list(processing_times.keys())\n",
    "\n",
    "    def _evaluate(self, x, out, *args, **kwargs):\n",
    "        # x is a permutation of recipe indices (e.g., [2, 0, 3, 1, 4])\n",
    "        sequence = x.astype(int)\n",
    "        makespan = self.calculate_makespan(sequence)\n",
    "        out[\"F\"] = makespan\n",
    "\n",
    "    def calculate_makespan(self, sequence):\n",
    "        # Initialize completion times for all machines and recipes\n",
    "        num_machines = len(self.machines)\n",
    "        completion_times = np.zeros((num_machines, len(sequence)))\n",
    "\n",
    "\n",
    "        for i, recipe in enumerate(sequence):\n",
    "            for m_idx, machine in enumerate(self.machines):\n",
    "                # Processing time for this recipe on current machine\n",
    "                proc_time = self.processing_times[machine][recipe]\n",
    "                batch_size = self.batch_sizes[recipe]\n",
    "                time_per_batch = proc_time + (batch_size - 1) * self.tact_time / 60  # Convert to minutes\n",
    "\n",
    "                # Change-over time (previous recipe to current recipe)\n",
    "                if i == 0:\n",
    "                    changeover = 0\n",
    "                else:\n",
    "                    prev_recipe = sequence[i-1]\n",
    "                    changeover = self.changeover_times[machine][prev_recipe, recipe]\n",
    "\n",
    "                # Start time is max of:\n",
    "                # 1. Previous recipe's completion on this machine + changeover\n",
    "                # 2. Current recipe's completion on previous machine\n",
    "                if m_idx == 0:\n",
    "                    start_time = (completion_times[m_idx, i-1] + changeover) if i > 0 else 0\n",
    "                else:\n",
    "                    start_time = max(\n",
    "                        completion_times[m_idx-1, i],  # Completion on previous machine\n",
    "                        (completion_times[m_idx, i-1] + changeover) if i > 0 else 0\n",
    "                    )\n",
    "\n",
    "                completion_times[m_idx, i] = start_time + time_per_batch\n",
    "\n",
    "        return completion_times[-1, -1]  # Makespan is last machine's last completion time"
   ]
  },
  {
   "cell_type": "code",
   "execution_count": 62,
   "metadata": {},
   "outputs": [
    {
     "name": "stdout",
     "output_type": "stream",
     "text": [
      "=================================================\n",
      "n_gen  |  n_eval  |     f_avg     |     f_min    \n",
      "=================================================\n",
      "     1 |       50 |  8.915733E+02 |  8.168000E+02\n"
     ]
    },
    {
     "ename": "ValueError",
     "evalue": "could not broadcast input array from shape (7,) into shape (5,)",
     "output_type": "error",
     "traceback": [
      "\u001b[1;31m---------------------------------------------------------------------------\u001b[0m",
      "\u001b[1;31mValueError\u001b[0m                                Traceback (most recent call last)",
      "Cell \u001b[1;32mIn[62], line 10\u001b[0m\n\u001b[0;32m      1\u001b[0m problem \u001b[38;5;241m=\u001b[39m BakerySchedulingProblem(batch_sizes, processing_times, changeover_times, tact_time)\n\u001b[0;32m      3\u001b[0m algorithm \u001b[38;5;241m=\u001b[39m GA(\n\u001b[0;32m      4\u001b[0m     pop_size\u001b[38;5;241m=\u001b[39m\u001b[38;5;241m50\u001b[39m,\n\u001b[0;32m      5\u001b[0m     crossover\u001b[38;5;241m=\u001b[39mOrderCrossover(),\n\u001b[0;32m      6\u001b[0m     mutation\u001b[38;5;241m=\u001b[39mInversionMutation(),\n\u001b[0;32m      7\u001b[0m     eliminate_duplicates\u001b[38;5;241m=\u001b[39m\u001b[38;5;28;01mTrue\u001b[39;00m\n\u001b[0;32m      8\u001b[0m )\n\u001b[1;32m---> 10\u001b[0m res \u001b[38;5;241m=\u001b[39m \u001b[43mminimize\u001b[49m\u001b[43m(\u001b[49m\n\u001b[0;32m     11\u001b[0m \u001b[43m    \u001b[49m\u001b[43mproblem\u001b[49m\u001b[43m,\u001b[49m\n\u001b[0;32m     12\u001b[0m \u001b[43m    \u001b[49m\u001b[43malgorithm\u001b[49m\u001b[43m,\u001b[49m\n\u001b[0;32m     13\u001b[0m \u001b[43m    \u001b[49m\u001b[43m(\u001b[49m\u001b[38;5;124;43m\"\u001b[39;49m\u001b[38;5;124;43mn_gen\u001b[39;49m\u001b[38;5;124;43m\"\u001b[39;49m\u001b[43m,\u001b[49m\u001b[43m \u001b[49m\u001b[38;5;241;43m100\u001b[39;49m\u001b[43m)\u001b[49m\u001b[43m,\u001b[49m\n\u001b[0;32m     14\u001b[0m \u001b[43m    \u001b[49m\u001b[43mseed\u001b[49m\u001b[38;5;241;43m=\u001b[39;49m\u001b[38;5;241;43m42\u001b[39;49m\u001b[43m,\u001b[49m\n\u001b[0;32m     15\u001b[0m \u001b[43m    \u001b[49m\u001b[43mverbose\u001b[49m\u001b[38;5;241;43m=\u001b[39;49m\u001b[38;5;28;43;01mTrue\u001b[39;49;00m\n\u001b[0;32m     16\u001b[0m \u001b[43m)\u001b[49m\n\u001b[0;32m     18\u001b[0m \u001b[38;5;28mprint\u001b[39m(\u001b[38;5;124m\"\u001b[39m\u001b[38;5;124mBest solution:\u001b[39m\u001b[38;5;124m\"\u001b[39m, res\u001b[38;5;241m.\u001b[39mX)\n\u001b[0;32m     19\u001b[0m \u001b[38;5;28mprint\u001b[39m(\u001b[38;5;124m\"\u001b[39m\u001b[38;5;124mMakespan (minutes):\u001b[39m\u001b[38;5;124m\"\u001b[39m, res\u001b[38;5;241m.\u001b[39mF)\n",
      "File \u001b[1;32mc:\\Users\\NHPHUC\\Desktop\\learn-data-science\\.venv\\lib\\site-packages\\pymoo\\optimize.py:67\u001b[0m, in \u001b[0;36mminimize\u001b[1;34m(problem, algorithm, termination, copy_algorithm, copy_termination, **kwargs)\u001b[0m\n\u001b[0;32m     64\u001b[0m     algorithm\u001b[38;5;241m.\u001b[39msetup(problem, \u001b[38;5;241m*\u001b[39m\u001b[38;5;241m*\u001b[39mkwargs)\n\u001b[0;32m     66\u001b[0m \u001b[38;5;66;03m# actually execute the algorithm\u001b[39;00m\n\u001b[1;32m---> 67\u001b[0m res \u001b[38;5;241m=\u001b[39m \u001b[43malgorithm\u001b[49m\u001b[38;5;241;43m.\u001b[39;49m\u001b[43mrun\u001b[49m\u001b[43m(\u001b[49m\u001b[43m)\u001b[49m\n\u001b[0;32m     69\u001b[0m \u001b[38;5;66;03m# store the deep copied algorithm in the result object\u001b[39;00m\n\u001b[0;32m     70\u001b[0m res\u001b[38;5;241m.\u001b[39malgorithm \u001b[38;5;241m=\u001b[39m algorithm\n",
      "File \u001b[1;32mc:\\Users\\NHPHUC\\Desktop\\learn-data-science\\.venv\\lib\\site-packages\\pymoo\\core\\algorithm.py:138\u001b[0m, in \u001b[0;36mAlgorithm.run\u001b[1;34m(self)\u001b[0m\n\u001b[0;32m    136\u001b[0m \u001b[38;5;28;01mdef\u001b[39;00m \u001b[38;5;21mrun\u001b[39m(\u001b[38;5;28mself\u001b[39m):\n\u001b[0;32m    137\u001b[0m     \u001b[38;5;28;01mwhile\u001b[39;00m \u001b[38;5;28mself\u001b[39m\u001b[38;5;241m.\u001b[39mhas_next():\n\u001b[1;32m--> 138\u001b[0m         \u001b[38;5;28;43mself\u001b[39;49m\u001b[38;5;241;43m.\u001b[39;49m\u001b[43mnext\u001b[49m\u001b[43m(\u001b[49m\u001b[43m)\u001b[49m\n\u001b[0;32m    139\u001b[0m     \u001b[38;5;28;01mreturn\u001b[39;00m \u001b[38;5;28mself\u001b[39m\u001b[38;5;241m.\u001b[39mresult()\n",
      "File \u001b[1;32mc:\\Users\\NHPHUC\\Desktop\\learn-data-science\\.venv\\lib\\site-packages\\pymoo\\core\\algorithm.py:154\u001b[0m, in \u001b[0;36mAlgorithm.next\u001b[1;34m(self)\u001b[0m\n\u001b[0;32m    151\u001b[0m \u001b[38;5;28;01mdef\u001b[39;00m \u001b[38;5;21mnext\u001b[39m(\u001b[38;5;28mself\u001b[39m):\n\u001b[0;32m    152\u001b[0m \n\u001b[0;32m    153\u001b[0m     \u001b[38;5;66;03m# get the infill solutions\u001b[39;00m\n\u001b[1;32m--> 154\u001b[0m     infills \u001b[38;5;241m=\u001b[39m \u001b[38;5;28;43mself\u001b[39;49m\u001b[38;5;241;43m.\u001b[39;49m\u001b[43minfill\u001b[49m\u001b[43m(\u001b[49m\u001b[43m)\u001b[49m\n\u001b[0;32m    156\u001b[0m     \u001b[38;5;66;03m# call the advance with them after evaluation\u001b[39;00m\n\u001b[0;32m    157\u001b[0m     \u001b[38;5;28;01mif\u001b[39;00m infills \u001b[38;5;129;01mis\u001b[39;00m \u001b[38;5;129;01mnot\u001b[39;00m \u001b[38;5;28;01mNone\u001b[39;00m:\n",
      "File \u001b[1;32mc:\\Users\\NHPHUC\\Desktop\\learn-data-science\\.venv\\lib\\site-packages\\pymoo\\core\\algorithm.py:190\u001b[0m, in \u001b[0;36mAlgorithm.infill\u001b[1;34m(self)\u001b[0m\n\u001b[0;32m    186\u001b[0m     infills \u001b[38;5;241m=\u001b[39m \u001b[38;5;28mself\u001b[39m\u001b[38;5;241m.\u001b[39m_initialize_infill()\n\u001b[0;32m    188\u001b[0m \u001b[38;5;28;01melse\u001b[39;00m:\n\u001b[0;32m    189\u001b[0m     \u001b[38;5;66;03m# request the infill solutions if the algorithm has implemented it\u001b[39;00m\n\u001b[1;32m--> 190\u001b[0m     infills \u001b[38;5;241m=\u001b[39m \u001b[38;5;28;43mself\u001b[39;49m\u001b[38;5;241;43m.\u001b[39;49m\u001b[43m_infill\u001b[49m\u001b[43m(\u001b[49m\u001b[43m)\u001b[49m\n\u001b[0;32m    192\u001b[0m \u001b[38;5;66;03m# set the current generation to the offsprings\u001b[39;00m\n\u001b[0;32m    193\u001b[0m \u001b[38;5;28;01mif\u001b[39;00m infills \u001b[38;5;129;01mis\u001b[39;00m \u001b[38;5;129;01mnot\u001b[39;00m \u001b[38;5;28;01mNone\u001b[39;00m:\n",
      "File \u001b[1;32mc:\\Users\\NHPHUC\\Desktop\\learn-data-science\\.venv\\lib\\site-packages\\pymoo\\algorithms\\base\\genetic.py:85\u001b[0m, in \u001b[0;36mGeneticAlgorithm._infill\u001b[1;34m(self)\u001b[0m\n\u001b[0;32m     82\u001b[0m \u001b[38;5;28;01mdef\u001b[39;00m \u001b[38;5;21m_infill\u001b[39m(\u001b[38;5;28mself\u001b[39m):\n\u001b[0;32m     83\u001b[0m \n\u001b[0;32m     84\u001b[0m     \u001b[38;5;66;03m# do the mating using the current population\u001b[39;00m\n\u001b[1;32m---> 85\u001b[0m     off \u001b[38;5;241m=\u001b[39m \u001b[38;5;28;43mself\u001b[39;49m\u001b[38;5;241;43m.\u001b[39;49m\u001b[43mmating\u001b[49m\u001b[38;5;241;43m.\u001b[39;49m\u001b[43mdo\u001b[49m\u001b[43m(\u001b[49m\u001b[38;5;28;43mself\u001b[39;49m\u001b[38;5;241;43m.\u001b[39;49m\u001b[43mproblem\u001b[49m\u001b[43m,\u001b[49m\u001b[43m \u001b[49m\u001b[38;5;28;43mself\u001b[39;49m\u001b[38;5;241;43m.\u001b[39;49m\u001b[43mpop\u001b[49m\u001b[43m,\u001b[49m\u001b[43m \u001b[49m\u001b[38;5;28;43mself\u001b[39;49m\u001b[38;5;241;43m.\u001b[39;49m\u001b[43mn_offsprings\u001b[49m\u001b[43m,\u001b[49m\u001b[43m \u001b[49m\u001b[43malgorithm\u001b[49m\u001b[38;5;241;43m=\u001b[39;49m\u001b[38;5;28;43mself\u001b[39;49m\u001b[43m)\u001b[49m\n\u001b[0;32m     87\u001b[0m     \u001b[38;5;66;03m# if the mating could not generate any new offspring (duplicate elimination might make that happen)\u001b[39;00m\n\u001b[0;32m     88\u001b[0m     \u001b[38;5;28;01mif\u001b[39;00m \u001b[38;5;28mlen\u001b[39m(off) \u001b[38;5;241m==\u001b[39m \u001b[38;5;241m0\u001b[39m:\n",
      "File \u001b[1;32mc:\\Users\\NHPHUC\\Desktop\\learn-data-science\\.venv\\lib\\site-packages\\pymoo\\core\\infill.py:38\u001b[0m, in \u001b[0;36mInfillCriterion.do\u001b[1;34m(self, problem, pop, n_offsprings, **kwargs)\u001b[0m\n\u001b[0;32m     35\u001b[0m n_remaining \u001b[38;5;241m=\u001b[39m n_offsprings \u001b[38;5;241m-\u001b[39m \u001b[38;5;28mlen\u001b[39m(off)\n\u001b[0;32m     37\u001b[0m \u001b[38;5;66;03m# do the mating\u001b[39;00m\n\u001b[1;32m---> 38\u001b[0m _off \u001b[38;5;241m=\u001b[39m \u001b[38;5;28mself\u001b[39m\u001b[38;5;241m.\u001b[39m_do(problem, pop, n_remaining, \u001b[38;5;241m*\u001b[39m\u001b[38;5;241m*\u001b[39mkwargs)\n\u001b[0;32m     40\u001b[0m \u001b[38;5;66;03m# repair the individuals if necessary - disabled if repair is NoRepair\u001b[39;00m\n\u001b[0;32m     41\u001b[0m _off \u001b[38;5;241m=\u001b[39m \u001b[38;5;28mself\u001b[39m\u001b[38;5;241m.\u001b[39mrepair(problem, _off, \u001b[38;5;241m*\u001b[39m\u001b[38;5;241m*\u001b[39mkwargs)\n",
      "File \u001b[1;32mc:\\Users\\NHPHUC\\Desktop\\learn-data-science\\.venv\\lib\\site-packages\\pymoo\\core\\mating.py:31\u001b[0m, in \u001b[0;36mMating._do\u001b[1;34m(self, problem, pop, n_offsprings, parents, **kwargs)\u001b[0m\n\u001b[0;32m     28\u001b[0m     parents \u001b[38;5;241m=\u001b[39m \u001b[38;5;28mself\u001b[39m\u001b[38;5;241m.\u001b[39mselection(problem, pop, n_matings, n_parents\u001b[38;5;241m=\u001b[39m\u001b[38;5;28mself\u001b[39m\u001b[38;5;241m.\u001b[39mcrossover\u001b[38;5;241m.\u001b[39mn_parents, \u001b[38;5;241m*\u001b[39m\u001b[38;5;241m*\u001b[39mkwargs)\n\u001b[0;32m     30\u001b[0m \u001b[38;5;66;03m# do the crossover using the parents index and the population - additional data provided if necessary\u001b[39;00m\n\u001b[1;32m---> 31\u001b[0m off \u001b[38;5;241m=\u001b[39m \u001b[38;5;28mself\u001b[39m\u001b[38;5;241m.\u001b[39mcrossover(problem, parents, \u001b[38;5;241m*\u001b[39m\u001b[38;5;241m*\u001b[39mkwargs)\n\u001b[0;32m     33\u001b[0m \u001b[38;5;66;03m# do the mutation on the offsprings created through crossover\u001b[39;00m\n\u001b[0;32m     34\u001b[0m off \u001b[38;5;241m=\u001b[39m \u001b[38;5;28mself\u001b[39m\u001b[38;5;241m.\u001b[39mmutation(problem, off, \u001b[38;5;241m*\u001b[39m\u001b[38;5;241m*\u001b[39mkwargs)\n",
      "File \u001b[1;32mc:\\Users\\NHPHUC\\Desktop\\learn-data-science\\.venv\\lib\\site-packages\\pymoo\\core\\operator.py:27\u001b[0m, in \u001b[0;36mOperator.__call__\u001b[1;34m(self, problem, elem, to_numpy, *args, **kwargs)\u001b[0m\n\u001b[0;32m     26\u001b[0m \u001b[38;5;28;01mdef\u001b[39;00m \u001b[38;5;21m__call__\u001b[39m(\u001b[38;5;28mself\u001b[39m, problem, elem, \u001b[38;5;241m*\u001b[39margs, to_numpy\u001b[38;5;241m=\u001b[39m\u001b[38;5;28;01mFalse\u001b[39;00m, \u001b[38;5;241m*\u001b[39m\u001b[38;5;241m*\u001b[39mkwargs):\n\u001b[1;32m---> 27\u001b[0m     out \u001b[38;5;241m=\u001b[39m \u001b[38;5;28mself\u001b[39m\u001b[38;5;241m.\u001b[39mdo(problem, elem, \u001b[38;5;241m*\u001b[39margs, \u001b[38;5;241m*\u001b[39m\u001b[38;5;241m*\u001b[39mkwargs)\n\u001b[0;32m     29\u001b[0m     \u001b[38;5;28;01mif\u001b[39;00m \u001b[38;5;28mself\u001b[39m\u001b[38;5;241m.\u001b[39mvtype \u001b[38;5;129;01mis\u001b[39;00m \u001b[38;5;129;01mnot\u001b[39;00m \u001b[38;5;28;01mNone\u001b[39;00m:\n\u001b[0;32m     30\u001b[0m         \u001b[38;5;28;01mfor\u001b[39;00m ind \u001b[38;5;129;01min\u001b[39;00m out:\n",
      "File \u001b[1;32mc:\\Users\\NHPHUC\\Desktop\\learn-data-science\\.venv\\lib\\site-packages\\pymoo\\core\\crossover.py:48\u001b[0m, in \u001b[0;36mCrossover.do\u001b[1;34m(self, problem, pop, parents, **kwargs)\u001b[0m\n\u001b[0;32m     44\u001b[0m \u001b[38;5;66;03m# the design space from the parents used for the crossover\u001b[39;00m\n\u001b[0;32m     45\u001b[0m \u001b[38;5;28;01mif\u001b[39;00m np\u001b[38;5;241m.\u001b[39many(cross):\n\u001b[0;32m     46\u001b[0m \n\u001b[0;32m     47\u001b[0m     \u001b[38;5;66;03m# we can not prefilter for cross first, because there might be other variables using the same shape as X\u001b[39;00m\n\u001b[1;32m---> 48\u001b[0m     Q \u001b[38;5;241m=\u001b[39m \u001b[38;5;28mself\u001b[39m\u001b[38;5;241m.\u001b[39m_do(problem, X, \u001b[38;5;241m*\u001b[39m\u001b[38;5;241m*\u001b[39mkwargs)\n\u001b[0;32m     49\u001b[0m     \u001b[38;5;28;01massert\u001b[39;00m Q\u001b[38;5;241m.\u001b[39mshape \u001b[38;5;241m==\u001b[39m (n_offsprings, n_matings, problem\u001b[38;5;241m.\u001b[39mn_var), \u001b[38;5;124m\"\u001b[39m\u001b[38;5;124mShape is incorrect of crossover impl.\u001b[39m\u001b[38;5;124m\"\u001b[39m\n\u001b[0;32m     50\u001b[0m     Xp[:, cross] \u001b[38;5;241m=\u001b[39m Q[:, cross]\n",
      "File \u001b[1;32mc:\\Users\\NHPHUC\\Desktop\\learn-data-science\\.venv\\lib\\site-packages\\pymoo\\operators\\crossover\\ox.py:81\u001b[0m, in \u001b[0;36mOrderCrossover._do\u001b[1;34m(self, problem, X, **kwargs)\u001b[0m\n\u001b[0;32m     78\u001b[0m     \u001b[38;5;66;03m# define the sequence to be used for crossover\u001b[39;00m\n\u001b[0;32m     79\u001b[0m     start, end \u001b[38;5;241m=\u001b[39m random_sequence(n)\n\u001b[1;32m---> 81\u001b[0m     \u001b[43mY\u001b[49m\u001b[43m[\u001b[49m\u001b[38;5;241;43m0\u001b[39;49m\u001b[43m,\u001b[49m\u001b[43m \u001b[49m\u001b[43mi\u001b[49m\u001b[43m,\u001b[49m\u001b[43m \u001b[49m\u001b[43m:\u001b[49m\u001b[43m]\u001b[49m \u001b[38;5;241m=\u001b[39m ox(a, b, seq\u001b[38;5;241m=\u001b[39m(start, end), shift\u001b[38;5;241m=\u001b[39m\u001b[38;5;28mself\u001b[39m\u001b[38;5;241m.\u001b[39mshift)\n\u001b[0;32m     82\u001b[0m     Y[\u001b[38;5;241m1\u001b[39m, i, :] \u001b[38;5;241m=\u001b[39m ox(b, a, seq\u001b[38;5;241m=\u001b[39m(start, end), shift\u001b[38;5;241m=\u001b[39m\u001b[38;5;28mself\u001b[39m\u001b[38;5;241m.\u001b[39mshift)\n\u001b[0;32m     84\u001b[0m \u001b[38;5;28;01mreturn\u001b[39;00m Y\n",
      "\u001b[1;31mValueError\u001b[0m: could not broadcast input array from shape (7,) into shape (5,)"
     ]
    }
   ],
   "source": [
    "problem = BakerySchedulingProblem(batch_sizes, processing_times, changeover_times, tact_time)\n",
    "\n",
    "algorithm = GA(\n",
    "    pop_size=50,\n",
    "    crossover=OrderCrossover(),\n",
    "    mutation=InversionMutation(),\n",
    "    eliminate_duplicates=True\n",
    ")\n",
    "\n",
    "res = minimize(\n",
    "    problem,\n",
    "    algorithm,\n",
    "    (\"n_gen\", 100),\n",
    "    seed=42,\n",
    "    verbose=True\n",
    ")\n",
    "\n",
    "print(\"Best solution:\", res.X)\n",
    "print(\"Makespan (minutes):\", res.F)"
   ]
  }
 ],
 "metadata": {
  "kernelspec": {
   "display_name": ".venv",
   "language": "python",
   "name": "python3"
  },
  "language_info": {
   "codemirror_mode": {
    "name": "ipython",
    "version": 3
   },
   "file_extension": ".py",
   "mimetype": "text/x-python",
   "name": "python",
   "nbconvert_exporter": "python",
   "pygments_lexer": "ipython3",
   "version": "3.9.0"
  }
 },
 "nbformat": 4,
 "nbformat_minor": 2
}
