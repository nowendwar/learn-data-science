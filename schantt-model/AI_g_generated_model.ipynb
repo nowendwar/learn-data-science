{
 "cells": [
  {
   "cell_type": "code",
   "execution_count": 10,
   "metadata": {},
   "outputs": [],
   "source": [
    "import numpy as np\n",
    "from pymoo.core.problem import Problem\n",
    "from pymoo.algorithms.soo.nonconvex.ga import GA\n",
    "from pymoo.operators.sampling.rnd import PermutationRandomSampling\n",
    "from pymoo.operators.crossover.ox import OrderCrossover\n",
    "from pymoo.operators.mutation.inversion import InversionMutation\n",
    "from pymoo.termination.default import DefaultSingleObjectiveTermination\n",
    "from pymoo.optimize import minimize"
   ]
  },
  {
   "cell_type": "code",
   "execution_count": 11,
   "metadata": {},
   "outputs": [],
   "source": [
    "class BakerySchedulingProblem(Problem):\n",
    "    def __init__(self, user_sequence, recipe_id_to_index, processing_times, changeover_times, batch_sizes, tact_times):\n",
    "        \"\"\"\n",
    "        Initialize the bakery scheduling problem with user sequence and parameters.\n",
    "\n",
    "        Parameters:\n",
    "        - user_sequence: List of recipe indices (e.g., [1, 0, 3, 4, 6, 1, 3]).\n",
    "        - recipe_id_to_index: Dictionary mapping recipe IDs to indices (e.g., {1: 0, 3: 1, ...}).\n",
    "        - processing_times: Array of shape [n_machines, n_recipes] with processing times.\n",
    "        - changeover_times: Array of shape [n_machines, n_recipes, n_recipes] with changeover times.\n",
    "        - batch_sizes: Array of shape [n_recipes] with batch sizes per recipe.\n",
    "        - tact_times: Array of shape [n_recipes] with tact times per recipe.\n",
    "        \"\"\"\n",
    "        self.seq_length = len(user_sequence)\n",
    "        self.user_sequence = np.array(user_sequence)\n",
    "        self.recipe_id_to_index = recipe_id_to_index\n",
    "        super().__init__(\n",
    "            n_var=self.seq_length,      # Number of positions in the sequence\n",
    "            n_obj=1,                    # Single objective: minimize makespan\n",
    "            n_constr=0,                 # No constraints\n",
    "            xl=0,                       # Minimum index\n",
    "            xu=self.seq_length - 1,     # Maximum index\n",
    "            type_var=int                # Integer variables for permutation\n",
    "        )\n",
    "        self.n_machines = processing_times.shape[0]\n",
    "        self.processing_times = processing_times\n",
    "        self.changeover_times = changeover_times\n",
    "        self.batch_sizes = batch_sizes\n",
    "        self.tact_times = tact_times\n",
    "\n",
    "    def _evaluate(self, X, out, *args, **kwargs):\n",
    "        \"\"\"Evaluate the makespan for each permutation in the population.\"\"\"\n",
    "        makespans = np.array([self.calculate_makespan(perm) for perm in X])\n",
    "        # print('X:', X)\n",
    "        # print('makespans:', makespans)\n",
    "        out[\"F\"] = makespans\n",
    "\n",
    "    def calculate_makespan(self, perm):\n",
    "        \"\"\"Calculate makespan with postponement for no-wait scheduling.\"\"\"\n",
    "        seq = self.user_sequence[perm]  # Permuted sequence of recipe indices\n",
    "        # print('seq:', seq)\n",
    "\n",
    "        start_times = np.zeros((self.seq_length, self.n_machines))\n",
    "        end_times = np.zeros((self.seq_length, self.n_machines))\n",
    "\n",
    "        for i in range(self.seq_length):\n",
    "            recipe = seq[i]\n",
    "            if i == 0:\n",
    "                # First recipe starts at time 0 on the first machine\n",
    "                start_times[i, 0] = 0\n",
    "            else:\n",
    "                # Calculate postponement to satisfy no-wait condition\n",
    "                prev_recipe = seq[i - 1]\n",
    "                postponement_candidates = []\n",
    "                # Machine 0: Earliest start after previous recipe\n",
    "                min_start_m0 = end_times[i - 1, 0] + self.changeover_times[0, prev_recipe, recipe]\n",
    "                # Check other machines for no-wait requirement\n",
    "                for m in range(1, self.n_machines):\n",
    "                    # Time when machine m is ready after previous recipe\n",
    "                    machine_ready = end_times[i - 1, m] + self.changeover_times[m, prev_recipe, recipe]\n",
    "                    # Cumulative processing time from machine 0 to m-1\n",
    "                    cumulative_proc_time = sum(self.processing_times[k, recipe] for k in range(m))\n",
    "                    # Required start time on machine 0 to reach machine m on time\n",
    "                    required_start = machine_ready - cumulative_proc_time\n",
    "                    postponement_candidates.append(required_start)\n",
    "                # Start time is the maximum of all constraints\n",
    "                start_times[i, 0] = min_start_m0\n",
    "                if postponement_candidates:\n",
    "                    start_times[i, 0] = max(min_start_m0, max(postponement_candidates))\n",
    "\n",
    "            # Compute start and end times for all machines with no-wait condition\n",
    "            for m in range(self.n_machines):\n",
    "                if m > 0:\n",
    "                    # Start on machine m immediately after end on machine m-1\n",
    "                    start_times[i, m] = end_times[i, m - 1]\n",
    "                # End time = start + (batch_size - 1) * tact_time + processing_time\n",
    "                end_times[i, m] = (start_times[i, m] +\n",
    "                                   (self.batch_sizes[i] - 1) * self.tact_times[recipe] +\n",
    "                                   self.processing_times[m, recipe])\n",
    "\n",
    "        # Makespan is the end time of the last recipe on the last machine\n",
    "        return end_times[-1, -1]"
   ]
  },
  {
   "cell_type": "code",
   "execution_count": 12,
   "metadata": {},
   "outputs": [
    {
     "name": "stdout",
     "output_type": "stream",
     "text": [
      "Recipe IDs:\n",
      " [1, 3, 4, 5, 8, 12, 14]\n",
      "Recipe ID to Index Mapping:\n",
      " {1: 0, 3: 1, 4: 2, 5: 3, 8: 4, 12: 5, 14: 6}\n",
      "User Sequence IDs:\n",
      " [3, 1, 5, 8, 14, 3, 5, 4]\n",
      "User Sequence Indices:\n",
      " [1, 0, 3, 4, 6, 1, 3, 2]\n",
      "Processing Times:\n",
      " [[11  8 17 19 15 12 17]\n",
      " [ 9 11 14  7 11 15 15]\n",
      " [12  9  8 12 12  7 10]\n",
      " [ 9  6 12 16 18 10  6]\n",
      " [16  9  5 16 14 10 17]]\n",
      "Batch Sizes:\n",
      " [16 11 12 10 14 10 17 10]\n",
      "Tact Times:\n",
      " [0.90017152 1.96492243 1.11655552 0.5495761  1.01760687 1.45152702\n",
      " 1.52105818]\n"
     ]
    }
   ],
   "source": [
    "# Example setup\n",
    "# Define recipe IDs (7 unique recipes)\n",
    "recipe_ids = [1, 3, 4, 5, 8, 12, 14]\n",
    "recipe_id_to_index = {rid: idx for idx, rid in enumerate(recipe_ids)}  # e.g., {1: 0, 3: 1, ...}\n",
    "\n",
    "n_unique_recipes = len(recipe_ids)  # Number of unique recipes\n",
    "\n",
    "# User's sequence with possible duplicates (8 positions)\n",
    "user_sequence_ids = [3, 1, 5, 8, 14, 3, 5, 4]\n",
    "user_sequence_idx = [recipe_id_to_index[rid] for rid in user_sequence_ids]  # [1, 0, 3, 4, 6, 1, 3]\n",
    "\n",
    "# Problem parameters\n",
    "n_machines = 5\n",
    "n_recipes = len(user_sequence_ids)\n",
    "\n",
    "# Sample data (randomized for demonstration)\n",
    "np.random.seed(42)\n",
    "processing_times = np.random.randint(5, 20, size=(n_machines, n_unique_recipes))\n",
    "changeover_times = np.random.randint(1, 5, size=(n_machines, n_unique_recipes, n_unique_recipes))\n",
    "for m in range(n_machines):\n",
    "    for i in range(n_unique_recipes):\n",
    "        changeover_times[m, i, i] = 0  # No changeover time for the same recipe\n",
    "batch_sizes = np.random.randint(10, 20, size=n_recipes)\n",
    "tact_times = np.random.uniform(0.5, 2.0, size=n_unique_recipes)\n",
    "\n",
    "print(\"Recipe IDs:\\n\", recipe_ids) \n",
    "print(\"Recipe ID to Index Mapping:\\n\", recipe_id_to_index)\n",
    "\n",
    "print(\"User Sequence IDs:\\n\", user_sequence_ids)\n",
    "print(\"User Sequence Indices:\\n\", user_sequence_idx)\n",
    "\n",
    "print(\"Processing Times:\\n\", processing_times)\n",
    "# print(\"Changeover Times:\\n\", changeover_times)\n",
    "\n",
    "print(\"Batch Sizes:\\n\", batch_sizes)\n",
    "print(\"Tact Times:\\n\", tact_times)"
   ]
  },
  {
   "cell_type": "code",
   "execution_count": 13,
   "metadata": {},
   "outputs": [
    {
     "name": "stdout",
     "output_type": "stream",
     "text": [
      "machine: 1\n",
      "k: 0\n",
      "cumulative_proc_time: 11\n",
      "----------------------------------------\n",
      "machine: 2\n",
      "k: 0\n",
      "k: 1\n",
      "cumulative_proc_time: 20\n",
      "----------------------------------------\n",
      "machine: 3\n",
      "k: 0\n",
      "k: 1\n",
      "k: 2\n",
      "cumulative_proc_time: 32\n",
      "----------------------------------------\n",
      "machine: 4\n",
      "k: 0\n",
      "k: 1\n",
      "k: 2\n",
      "k: 3\n",
      "cumulative_proc_time: 41\n",
      "----------------------------------------\n"
     ]
    }
   ],
   "source": [
    "for m in range(1, n_machines):\n",
    "    print('machine:', m)\n",
    "    for k in range(m):\n",
    "        print('k:', k)\n",
    "    cumulative_proc_time = sum(processing_times[k, 0] for k in range(m))\n",
    "\n",
    "    print('cumulative_proc_time:', cumulative_proc_time)\n",
    "    print('--'*20)\n"
   ]
  },
  {
   "cell_type": "code",
   "execution_count": 14,
   "metadata": {},
   "outputs": [
    {
     "data": {
      "text/plain": [
       "3"
      ]
     },
     "execution_count": 14,
     "metadata": {},
     "output_type": "execute_result"
    }
   ],
   "source": [
    "recipe_id_to_index[5]"
   ]
  },
  {
   "cell_type": "code",
   "execution_count": 15,
   "metadata": {},
   "outputs": [
    {
     "data": {
      "text/plain": [
       "4"
      ]
     },
     "execution_count": 15,
     "metadata": {},
     "output_type": "execute_result"
    }
   ],
   "source": [
    "changeover_times[0, 1, 2]"
   ]
  },
  {
   "cell_type": "code",
   "execution_count": 16,
   "metadata": {},
   "outputs": [
    {
     "name": "stdout",
     "output_type": "stream",
     "text": [
      "=================================================\n",
      "n_gen  |  n_eval  |     f_avg     |     f_min    \n",
      "=================================================\n",
      "     1 |       80 |  7.149677E+02 |  6.708034E+02\n",
      "     2 |      160 |  6.955618E+02 |  6.679685E+02\n",
      "     3 |      240 |  6.881694E+02 |  6.679685E+02\n",
      "     4 |      320 |  6.842276E+02 |  6.627829E+02\n",
      "     5 |      400 |  6.798641E+02 |  6.627829E+02\n",
      "     6 |      480 |  6.776467E+02 |  6.617829E+02\n",
      "     7 |      560 |  6.749573E+02 |  6.617829E+02\n",
      "     8 |      640 |  6.734766E+02 |  6.617829E+02\n",
      "     9 |      720 |  6.724172E+02 |  6.617829E+02\n",
      "    10 |      800 |  6.712269E+02 |  6.617829E+02\n",
      "    11 |      880 |  6.703324E+02 |  6.617829E+02\n",
      "    12 |      960 |  6.698633E+02 |  6.617829E+02\n",
      "    13 |     1040 |  6.694040E+02 |  6.617829E+02\n",
      "    14 |     1120 |  6.688291E+02 |  6.617829E+02\n",
      "    15 |     1200 |  6.681772E+02 |  6.617829E+02\n",
      "    16 |     1280 |  6.678340E+02 |  6.617829E+02\n",
      "    17 |     1360 |  6.677328E+02 |  6.617829E+02\n",
      "    18 |     1440 |  6.676911E+02 |  6.617829E+02\n",
      "    19 |     1520 |  6.675967E+02 |  6.617829E+02\n",
      "    20 |     1600 |  6.675061E+02 |  6.617829E+02\n",
      "    21 |     1680 |  6.672898E+02 |  6.617829E+02\n",
      "    22 |     1760 |  6.671397E+02 |  6.617829E+02\n",
      "    23 |     1840 |  6.670579E+02 |  6.617829E+02\n",
      "    24 |     1920 |  6.670264E+02 |  6.617829E+02\n",
      "    25 |     2000 |  6.669610E+02 |  6.617829E+02\n",
      "    26 |     2080 |  6.668884E+02 |  6.617829E+02\n",
      "    27 |     2160 |  6.668704E+02 |  6.617829E+02\n",
      "    28 |     2240 |  6.667777E+02 |  6.617829E+02\n",
      "    29 |     2320 |  6.667777E+02 |  6.617829E+02\n",
      "    30 |     2400 |  6.667739E+02 |  6.617829E+02\n",
      "    31 |     2480 |  6.667426E+02 |  6.617829E+02\n",
      "    32 |     2560 |  6.667277E+02 |  6.617829E+02\n",
      "    33 |     2640 |  6.666954E+02 |  6.617829E+02\n",
      "    34 |     2720 |  6.666954E+02 |  6.617829E+02\n",
      "    35 |     2800 |  6.666954E+02 |  6.617829E+02\n",
      "    36 |     2880 |  6.666954E+02 |  6.617829E+02\n",
      "    37 |     2960 |  6.666954E+02 |  6.617829E+02\n",
      "    38 |     3040 |  6.666821E+02 |  6.617829E+02\n",
      "    39 |     3120 |  6.666499E+02 |  6.617829E+02\n",
      "    40 |     3200 |  6.666454E+02 |  6.617829E+02\n",
      "    41 |     3280 |  6.666183E+02 |  6.617829E+02\n",
      "    42 |     3360 |  6.666183E+02 |  6.617829E+02\n",
      "    43 |     3440 |  6.666183E+02 |  6.617829E+02\n",
      "    44 |     3520 |  6.666183E+02 |  6.617829E+02\n",
      "    45 |     3600 |  6.666183E+02 |  6.617829E+02\n",
      "    46 |     3680 |  6.666183E+02 |  6.617829E+02\n",
      "    47 |     3760 |  6.666183E+02 |  6.617829E+02\n",
      "    48 |     3840 |  6.666183E+02 |  6.617829E+02\n",
      "    49 |     3920 |  6.666183E+02 |  6.617829E+02\n",
      "    50 |     4000 |  6.666183E+02 |  6.617829E+02\n",
      "    51 |     4080 |  6.666183E+02 |  6.617829E+02\n",
      "    52 |     4160 |  6.665997E+02 |  6.617829E+02\n",
      "    53 |     4240 |  6.665997E+02 |  6.617829E+02\n",
      "    54 |     4320 |  6.665773E+02 |  6.617829E+02\n",
      "Original sequence of recipe IDs: [3, 1, 5, 8, 14, 3, 5, 4]\n",
      "Best permutation of indices: [1 3 7 5 2 4 6 0]\n",
      "Best sequence of recipe IDs: [1, 8, 4, 3, 5, 14, 5, 3]\n",
      "Minimized makespan: 661.7829327299489\n"
     ]
    }
   ],
   "source": [
    "# Instantiate the problem\n",
    "problem = BakerySchedulingProblem(\n",
    "    user_sequence=user_sequence_idx,\n",
    "    recipe_id_to_index=recipe_id_to_index,\n",
    "    processing_times=processing_times,\n",
    "    changeover_times=changeover_times,\n",
    "    batch_sizes=batch_sizes,\n",
    "    tact_times=tact_times\n",
    ")\n",
    "\n",
    "# Configure the genetic algorithm\n",
    "algorithm = GA(\n",
    "    pop_size=len(user_sequence_idx) * 10,  # Population size\n",
    "    sampling=PermutationRandomSampling(),\n",
    "    crossover=OrderCrossover(),\n",
    "    mutation=InversionMutation(),\n",
    "    eliminate_duplicates=True\n",
    ")\n",
    "\n",
    "# Run optimization\n",
    "res = minimize(\n",
    "    problem,\n",
    "    algorithm,\n",
    "    # termination=('n_gen', 100),\n",
    "    termination=DefaultSingleObjectiveTermination(period=50, n_max_gen=10000),\n",
    "    seed=1,\n",
    "    verbose=True  # Set to True to see progress\n",
    ")\n",
    "\n",
    "# Extract and display results\n",
    "best_perm = res.X\n",
    "best_sequence_idx = [user_sequence_idx[i] for i in best_perm]\n",
    "best_sequence_ids = [recipe_ids[idx] for idx in best_sequence_idx]\n",
    "\n",
    "print(\"Original sequence of recipe IDs:\", user_sequence_ids)\n",
    "print(\"Best permutation of indices:\", best_perm)\n",
    "print(\"Best sequence of recipe IDs:\", best_sequence_ids)\n",
    "print(\"Minimized makespan:\", res.F[0])"
   ]
  },
  {
   "cell_type": "code",
   "execution_count": 17,
   "metadata": {},
   "outputs": [
    {
     "name": "stdout",
     "output_type": "stream",
     "text": [
      "perm [6 2 1 0 4 3 5]\n",
      "user_sequence [1 0 3 4 6 1 3 2]\n"
     ]
    }
   ],
   "source": [
    "perm = np.array([6, 2, 1, 0, 4, 3, 5])\n",
    "print(\"perm\", perm)\n",
    "user_sequence = np.array(user_sequence_idx)\n",
    "print(\"user_sequence\", user_sequence)"
   ]
  },
  {
   "cell_type": "code",
   "execution_count": 18,
   "metadata": {},
   "outputs": [
    {
     "name": "stdout",
     "output_type": "stream",
     "text": [
      "seq: [3 3 0 1 6 4 1] <class 'numpy.ndarray'>\n"
     ]
    }
   ],
   "source": [
    "seq = user_sequence[perm]  # Permuted sequence of recipe indices\n",
    "\n",
    "print(\"seq:\", seq, type(seq))\n"
   ]
  },
  {
   "cell_type": "markdown",
   "metadata": {},
   "source": [
    "The line `seq = user_sequence[perm]` is using **NumPy array indexing** to reorder the elements of the `user_sequence` array based on the indices specified in the `perm` array.\n",
    "\n",
    "### Explanation:\n",
    "1. **`user_sequence`**:\n",
    "    - This is a NumPy array: `array([1, 0, 3, 4, 6, 1, 3])`.\n",
    "    - It represents the sequence of recipe indices provided by the user.\n",
    "\n",
    "2. **`perm`**:\n",
    "    - This is a NumPy array: `array([6, 2, 1, 0, 4, 3, 5])`.\n",
    "    - It represents a permutation of indices (positions) into the `user_sequence` array.\n",
    "\n",
    "3. **`user_sequence[perm]`**:\n",
    "    - This reorders the elements of `user_sequence` according to the indices in `perm`.\n",
    "    - For example:\n",
    "      - `perm[0] = 6` → `user_sequence[6] = 3`\n",
    "      - `perm[1] = 2` → `user_sequence[2] = 3`\n",
    "      - `perm[2] = 1` → `user_sequence[1] = 0`\n",
    "      - And so on...\n",
    "\n",
    "4. **Result**:\n",
    "    - The resulting `seq` is: `array([3, 3, 0, 1, 6, 4, 1])`.\n",
    "\n",
    "### Purpose:\n",
    "This operation creates a new sequence (`seq`) by reordering the original `user_sequence` according to the permutation defined in `perm`. This is often used in optimization problems to evaluate different orderings or arrangements of items."
   ]
  }
 ],
 "metadata": {
  "kernelspec": {
   "display_name": ".venv",
   "language": "python",
   "name": "python3"
  },
  "language_info": {
   "codemirror_mode": {
    "name": "ipython",
    "version": 3
   },
   "file_extension": ".py",
   "mimetype": "text/x-python",
   "name": "python",
   "nbconvert_exporter": "python",
   "pygments_lexer": "ipython3",
   "version": "3.9.0"
  }
 },
 "nbformat": 4,
 "nbformat_minor": 2
}
