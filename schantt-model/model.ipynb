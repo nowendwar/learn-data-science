{
 "cells": [
  {
   "cell_type": "code",
   "execution_count": 1,
   "metadata": {},
   "outputs": [],
   "source": [
    "#import\n",
    "import numpy as np\n",
    "import pandas as pd\n",
    "\n",
    "from core import *"
   ]
  },
  {
   "cell_type": "markdown",
   "metadata": {},
   "source": [
    "### Data"
   ]
  },
  {
   "cell_type": "code",
   "execution_count": 2,
   "metadata": {},
   "outputs": [
    {
     "name": "stdout",
     "output_type": "stream",
     "text": []
    }
   ],
   "source": [
    "# stage_data\n",
    "stage_data = pd.DataFrame({\n",
    "    'stage_name': ['dough_dispenser', 'raising', 'to_oven', 'oven', 'cool_freeze'],\n",
    "    'max_change_over': [15, 1, 14, 25, 2],\n",
    "}, index=pd.Index([1,2,3,4,5], name='stage_id'))\n",
    "\n",
    "stage_data"
   ]
  },
  {
   "cell_type": "code",
   "execution_count": 3,
   "metadata": {},
   "outputs": [
    {
     "name": "stdout",
     "output_type": "stream",
     "text": []
    }
   ],
   "source": [
    "# recipe data\n",
    "recipe_data = pd.DataFrame({\n",
    "    'recipe_name': ['Baguette tradition', 'Demi Baguette', 'Ciabatta 90g','Ciabatta 300g', 'Pumpkin Seed Bun', 'Easter Bread','Brioche Bun'],\n",
    "    'line_capacity': [400, 400, 400, 400, 400, 400, 400], # plb/hour\n",
    "    'turner': [False, False, True, False, True, False, False],\n",
    "    'rising_time': [90, 90, 90, 90, 90, 60, 60], # minute\n",
    "    'baking_time': [18, 14, 12, 15, 13, 30, 12], # minute\n",
    "    'baking_temp': [240, 240, 220, 220, 230, 220, 235],\n",
    "    'cooling_time': [70, 70, 70, 70, 70, 70, 70] # minute\n",
    "}, index=pd.Index([1, 2, 3, 4, 5, 6, 7], name='recipe_id'),)\n",
    "\n",
    "recipe_data"
   ]
  },
  {
   "cell_type": "code",
   "execution_count": 4,
   "metadata": {},
   "outputs": [
    {
     "name": "stdout",
     "output_type": "stream",
     "text": []
    }
   ],
   "source": [
    "# Processing data\n",
    "processing_time_data = pd.read_excel('The Industrial Bakery Scheduling Problem.xlsx', sheet_name=\"processing_time\", index_col=[0, 1], skiprows=50, usecols=list(range(0,3)))\n",
    "\n",
    "processing_time_data.head(5)"
   ]
  },
  {
   "cell_type": "code",
   "execution_count": 5,
   "metadata": {},
   "outputs": [
    {
     "name": "stdout",
     "output_type": "stream",
     "text": []
    }
   ],
   "source": [
    "processing_time_data[\"processing_time\"].loc[1, 3]"
   ]
  },
  {
   "cell_type": "code",
   "execution_count": 6,
   "metadata": {},
   "outputs": [
    {
     "name": "stdout",
     "output_type": "stream",
     "text": []
    }
   ],
   "source": [
    "# Change over data\n",
    "change_over_data = pd.read_excel('The Industrial Bakery Scheduling Problem.xlsx', sheet_name=\"change_over\", index_col=[0, 1], skiprows=50, usecols=list(range(0,9)))\n",
    "\n",
    "change_over_data.head(10)"
   ]
  },
  {
   "cell_type": "code",
   "execution_count": 7,
   "metadata": {},
   "outputs": [
    {
     "name": "stdout",
     "output_type": "stream",
     "text": []
    }
   ],
   "source": [
    "# production data\n",
    "production_data = pd.DataFrame({\n",
    "    'amount': [100000, 150000, 1250000, 70000, 50000, 25000, 45000],\n",
    "    'amount_per_plb': [20, 44, 88, 27, 63, 11, 40],\n",
    "    'plb_per_week': [5000, 3410, 1421, 2593, 794, 2273, 1125],\n",
    "    'plb_per_day': [834, 569, 237, 433, 133, 379, 188],\n",
    "}, index=pd.Index([1, 2, 3, 4, 5, 6, 7], name='recipe_id'),)\n",
    "\n",
    "production_data"
   ]
  },
  {
   "cell_type": "code",
   "execution_count": 8,
   "metadata": {},
   "outputs": [
    {
     "name": "stdout",
     "output_type": "stream",
     "text": []
    }
   ],
   "source": [
    "# Production order\n",
    "production_quantity = production_data[\"plb_per_day\"]\n",
    "\n",
    "\n",
    "production_quantity = production_quantity.sample(n=7, random_state=205)\n",
    "\n",
    "production_quantity"
   ]
  },
  {
   "cell_type": "code",
   "execution_count": 9,
   "metadata": {},
   "outputs": [],
   "source": [
    "production_sequence = production_quantity.index"
   ]
  },
  {
   "cell_type": "code",
   "execution_count": 10,
   "metadata": {},
   "outputs": [
    {
     "name": "stdout",
     "output_type": "stream",
     "text": []
    }
   ],
   "source": [
    "schedule = set_up_schedule(stage_data, production_sequence)\n",
    "\n",
    "schedule"
   ]
  },
  {
   "cell_type": "code",
   "execution_count": 11,
   "metadata": {},
   "outputs": [],
   "source": [
    "schedule, postpone_time = calculate_first(stage_data, recipe_data, processing_time_data, change_over_data, production_sequence, schedule)"
   ]
  },
  {
   "cell_type": "code",
   "execution_count": 12,
   "metadata": {},
   "outputs": [
    {
     "name": "stdout",
     "output_type": "stream",
     "text": []
    }
   ],
   "source": [
    "schedule"
   ]
  },
  {
   "cell_type": "markdown",
   "metadata": {},
   "source": [
    "##### calculating true timing"
   ]
  },
  {
   "cell_type": "code",
   "execution_count": 13,
   "metadata": {},
   "outputs": [
    {
     "name": "stdout",
     "output_type": "stream",
     "text": []
    }
   ],
   "source": [
    "calculate_true(stage_data, recipe_data, processing_time_data, change_over_data, production_quantity, production_sequence, schedule, postpone_time)"
   ]
  },
  {
   "cell_type": "markdown",
   "metadata": {},
   "source": [
    "##### result"
   ]
  },
  {
   "cell_type": "code",
   "execution_count": 14,
   "metadata": {},
   "outputs": [
    {
     "name": "stdout",
     "output_type": "stream",
     "text": []
    }
   ],
   "source": [
    "schedule"
   ]
  },
  {
   "cell_type": "markdown",
   "metadata": {},
   "source": [
    "### Makespan"
   ]
  },
  {
   "cell_type": "code",
   "execution_count": 15,
   "metadata": {},
   "outputs": [
    {
     "name": "stdout",
     "output_type": "stream",
     "text": []
    }
   ],
   "source": [
    "make_schedule(stage_data, recipe_data, processing_time_data, change_over_data, production_quantity, production_sequence)"
   ]
  },
  {
   "cell_type": "code",
   "execution_count": 16,
   "metadata": {},
   "outputs": [
    {
     "name": "stdout",
     "output_type": "stream",
     "text": []
    }
   ],
   "source": [
    "makespan(schedule)"
   ]
  },
  {
   "cell_type": "markdown",
   "metadata": {},
   "source": [
    "## Flowshop schedule"
   ]
  },
  {
   "cell_type": "code",
   "execution_count": 17,
   "metadata": {},
   "outputs": [],
   "source": [
    "from pymoo.algorithms.soo.nonconvex.ga import GA\n",
    "from pymoo.optimize import minimize\n",
    "from pymoo.operators.crossover.ox import OrderCrossover\n",
    "from pymoo.operators.mutation.inversion import InversionMutation\n",
    "from pymoo.termination.default import DefaultSingleObjectiveTermination\n",
    "from pymoo.core.problem import ElementwiseProblem\n",
    "from pymoo.core.sampling import Sampling\n"
   ]
  },
  {
   "cell_type": "markdown",
   "metadata": {},
   "source": [
    "#### Function for pymoo"
   ]
  },
  {
   "cell_type": "code",
   "execution_count": 18,
   "metadata": {},
   "outputs": [],
   "source": [
    "class BasicScheduling(ElementwiseProblem):\n",
    "\n",
    "    from core import make_schedule\n",
    "\n",
    "    def __init__(self, stage_data, recipe_data, processing_time_data, change_over_data, production_quantity, **kwargs):\n",
    "        \"\"\"\n",
    "        Basic Flowshop scheduling problem.\n",
    "        \"\"\"\n",
    "        self.stage_data = stage_data\n",
    "        self.recipe_data = recipe_data\n",
    "        self.processing_time_data = processing_time_data\n",
    "        self.change_over_data = change_over_data\n",
    "        self.production_quantity = production_quantity\n",
    "        self.make_schedule = make_schedule\n",
    "\n",
    "        super(BasicScheduling, self).__init__(\n",
    "            n_var=len(self.production_quantity),\n",
    "            n_obj=1,\n",
    "            xl=0,\n",
    "            vtype=int,\n",
    "            **kwargs\n",
    "        )\n",
    "\n",
    "    def _evaluate(self, x, out, *args, **kwargs):\n",
    "        out[\"F\"] = self.schedule(x)[\"last_exit\"].iloc[-1]\n",
    "\n",
    "    def schedule(self, x):\n",
    "        schedule = self.make_schedule(self.stage_data, self.recipe_data, self.processing_time_data, self.change_over_data, self.production_quantity, x)\n",
    "        return schedule"
   ]
  },
  {
   "cell_type": "code",
   "execution_count": 19,
   "metadata": {},
   "outputs": [],
   "source": [
    "class SchanttCustomSampling(Sampling):\n",
    "\n",
    "    def _do(self, problem, n_samples, **kwargs):\n",
    "        X = np.full((n_samples, problem.n_var), 0, dtype=int)\n",
    "        for i in range(n_samples):\n",
    "            X[i, :] = np.random.permutation(problem.production_quantity.index)\n",
    "        return X"
   ]
  },
  {
   "cell_type": "code",
   "execution_count": 20,
   "metadata": {},
   "outputs": [],
   "source": [
    "def create_flowshop_problem(stage_data, recipe_data, processing_time_data, change_over_data, production_quantity):\n",
    "    return BasicScheduling(stage_data, recipe_data, processing_time_data, change_over_data, production_quantity)"
   ]
  },
  {
   "cell_type": "markdown",
   "metadata": {},
   "source": [
    "#### Set up pymoo"
   ]
  },
  {
   "cell_type": "code",
   "execution_count": 21,
   "metadata": {},
   "outputs": [],
   "source": [
    "problem = create_flowshop_problem(stage_data, recipe_data, processing_time_data, change_over_data, production_quantity)"
   ]
  },
  {
   "cell_type": "code",
   "execution_count": 22,
   "metadata": {},
   "outputs": [],
   "source": [
    "termination = DefaultSingleObjectiveTermination(period=50, n_max_gen=10000)"
   ]
  },
  {
   "cell_type": "code",
   "execution_count": 23,
   "metadata": {},
   "outputs": [],
   "source": [
    "algorithm = GA(\n",
    "    pop_size=20,\n",
    "    eliminate_duplicates=True,\n",
    "    sampling=SchanttCustomSampling(),\n",
    "    mutation=InversionMutation(),\n",
    "    crossover=OrderCrossover()\n",
    ")"
   ]
  },
  {
   "cell_type": "code",
   "execution_count": 24,
   "metadata": {},
   "outputs": [
    {
     "name": "stdout",
     "output_type": "stream",
     "text": []
    }
   ],
   "source": [
    "res = minimize(\n",
    "    problem,\n",
    "    algorithm,\n",
    "    termination,\n",
    "    seed=1,\n",
    "    verbose=True,\n",
    ")"
   ]
  },
  {
   "cell_type": "code",
   "execution_count": 25,
   "metadata": {},
   "outputs": [
    {
     "name": "stdout",
     "output_type": "stream",
     "text": []
    }
   ],
   "source": [
    "res.X"
   ]
  },
  {
   "cell_type": "code",
   "execution_count": 26,
   "metadata": {},
   "outputs": [
    {
     "name": "stdout",
     "output_type": "stream",
     "text": []
    }
   ],
   "source": [
    "res.F"
   ]
  },
  {
   "cell_type": "code",
   "execution_count": 27,
   "metadata": {},
   "outputs": [
    {
     "name": "stdout",
     "output_type": "stream",
     "text": []
    }
   ],
   "source": [
    "res.pop.get(\"X\")"
   ]
  },
  {
   "cell_type": "code",
   "execution_count": 28,
   "metadata": {},
   "outputs": [
    {
     "name": "stdout",
     "output_type": "stream",
     "text": []
    }
   ],
   "source": [
    "res.pop.get(\"F\")"
   ]
  },
  {
   "cell_type": "code",
   "execution_count": 29,
   "metadata": {},
   "outputs": [
    {
     "name": "stdout",
     "output_type": "stream",
     "text": []
    }
   ],
   "source": [
    "res"
   ]
  },
  {
   "cell_type": "code",
   "execution_count": 30,
   "metadata": {},
   "outputs": [
    {
     "name": "stdout",
     "output_type": "stream",
     "text": []
    }
   ],
   "source": [
    "res.opt.get('X')"
   ]
  },
  {
   "cell_type": "code",
   "execution_count": 31,
   "metadata": {},
   "outputs": [
    {
     "name": "stdout",
     "output_type": "stream",
     "text": []
    }
   ],
   "source": [
    "print(\"Maximum Span:\", np.round(res.F[0], 3))\n",
    "print(\"Function Evaluations:\", res.algorithm.evaluator.n_eval)"
   ]
  },
  {
   "cell_type": "code",
   "execution_count": 32,
   "metadata": {},
   "outputs": [],
   "source": [
    "best_production_sequence = res.X"
   ]
  },
  {
   "cell_type": "code",
   "execution_count": 33,
   "metadata": {},
   "outputs": [
    {
     "name": "stdout",
     "output_type": "stream",
     "text": []
    }
   ],
   "source": [
    "make_schedule(stage_data, recipe_data, processing_time_data, change_over_data, production_quantity, best_production_sequence)"
   ]
  }
 ],
 "metadata": {
  "kernelspec": {
   "display_name": ".venv",
   "language": "python",
   "name": "python3"
  },
  "language_info": {
   "codemirror_mode": {
    "name": "ipython",
    "version": 3
   },
   "file_extension": ".py",
   "mimetype": "text/x-python",
   "name": "python",
   "nbconvert_exporter": "python",
   "pygments_lexer": "ipython3",
   "version": "3.9.0"
  },
  "orig_nbformat": 4
 },
 "nbformat": 4,
 "nbformat_minor": 2
}
